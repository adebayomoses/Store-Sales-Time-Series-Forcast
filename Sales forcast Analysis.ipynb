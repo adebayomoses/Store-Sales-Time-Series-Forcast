{
 "cells": [
  {
   "cell_type": "markdown",
   "id": "661e393c",
   "metadata": {},
   "source": [
    "## Store Sales Forcast using Time Series Data"
   ]
  },
  {
   "cell_type": "code",
   "execution_count": 1,
   "id": "d5a9653e",
   "metadata": {},
   "outputs": [],
   "source": [
    "# importing the panada library\n",
    "\n",
    "import pandas as pd\n",
    "import seaborn as sns\n",
    "import matplotlib.pyplot as plt\n",
    "\n",
    "\n",
    "%matplotlib inline"
   ]
  },
  {
   "cell_type": "code",
   "execution_count": 2,
   "id": "31d1c722",
   "metadata": {},
   "outputs": [
    {
     "name": "stdout",
     "output_type": "stream",
     "text": [
      "Reset css and font defaults in:\n",
      "C:\\Users\\USER\\.jupyter\\custom &\n",
      "C:\\Users\\USER\\AppData\\Roaming\\jupyter\\nbextensions\n"
     ]
    }
   ],
   "source": [
    "!jt -r\n"
   ]
  },
  {
   "cell_type": "markdown",
   "id": "7f0ba77a",
   "metadata": {},
   "source": [
    "### Data Preprocessing"
   ]
  },
  {
   "cell_type": "code",
   "execution_count": 2,
   "id": "071766c0",
   "metadata": {},
   "outputs": [],
   "source": [
    "# Loading the dataset or use glob to load the dataset\n",
    "\n",
    "df1 = pd.read_csv(\"holidays_events.csv\")\n",
    "df2 = pd.read_csv(\"oil.csv\")\n",
    "df3 = pd.read_csv(\"stores.csv\")\n",
    "df4 = pd.read_csv(\"transactions.csv\")\n",
    "df5 = pd.read_csv(\"train.csv\", index_col=\"date\")\n",
    "df6 = pd.read_csv(\"test.csv\")"
   ]
  },
  {
   "cell_type": "code",
   "execution_count": 3,
   "id": "7af68581",
   "metadata": {},
   "outputs": [
    {
     "name": "stdout",
     "output_type": "stream",
     "text": [
      "<class 'pandas.core.frame.DataFrame'>\n",
      "RangeIndex: 28512 entries, 0 to 28511\n",
      "Data columns (total 5 columns):\n",
      " #   Column       Non-Null Count  Dtype \n",
      "---  ------       --------------  ----- \n",
      " 0   id           28512 non-null  int64 \n",
      " 1   date         28512 non-null  object\n",
      " 2   store_nbr    28512 non-null  int64 \n",
      " 3   family       28512 non-null  object\n",
      " 4   onpromotion  28512 non-null  int64 \n",
      "dtypes: int64(3), object(2)\n",
      "memory usage: 1.1+ MB\n"
     ]
    }
   ],
   "source": [
    "df6.info()"
   ]
  },
  {
   "cell_type": "code",
   "execution_count": 4,
   "id": "5bc5152c",
   "metadata": {},
   "outputs": [],
   "source": [
    "# combing the the dataset into one:\n",
    "\n",
    "file = df5.merge(df1, on=\"date\", how=\"left\")\n",
    "file = file.merge(df2, on = \"date\", how=\"left\")\n",
    "file = file.merge(df3, on = \"store_nbr\", how = \"left\")\n",
    "file = file.merge(df4, on = [\"date\", \"store_nbr\"], how = \"left\")"
   ]
  },
  {
   "cell_type": "code",
   "execution_count": 14,
   "id": "7a8dc24c",
   "metadata": {},
   "outputs": [
    {
     "name": "stdout",
     "output_type": "stream",
     "text": [
      "<class 'pandas.core.frame.DataFrame'>\n",
      "DatetimeIndex: 3054348 entries, 2013-01-01 to 2017-08-15\n",
      "Data columns (total 16 columns):\n",
      " #   Column        Dtype  \n",
      "---  ------        -----  \n",
      " 0   id            int64  \n",
      " 1   store_nbr     int64  \n",
      " 2   family        object \n",
      " 3   sales         float64\n",
      " 4   onpromotion   int64  \n",
      " 5   type_x        object \n",
      " 6   locale        object \n",
      " 7   locale_name   object \n",
      " 8   description   object \n",
      " 9   transferred   object \n",
      " 10  dcoilwtico    float64\n",
      " 11  city          object \n",
      " 12  state         object \n",
      " 13  type_y        object \n",
      " 14  cluster       int64  \n",
      " 15  transactions  float64\n",
      "dtypes: float64(3), int64(4), object(9)\n",
      "memory usage: 396.1+ MB\n"
     ]
    }
   ],
   "source": [
    "# data info\n",
    "file.index = pd.to_datetime(file.index)\n",
    "\n",
    "file.info()"
   ]
  },
  {
   "cell_type": "code",
   "execution_count": 8,
   "id": "ce0f320e",
   "metadata": {},
   "outputs": [
    {
     "data": {
      "text/plain": [
       "(3054348, 17)"
      ]
     },
     "execution_count": 8,
     "metadata": {},
     "output_type": "execute_result"
    }
   ],
   "source": [
    "# shape of the data\n",
    "\n",
    "file.shape"
   ]
  },
  {
   "cell_type": "code",
   "execution_count": 9,
   "id": "19630b50",
   "metadata": {},
   "outputs": [
    {
     "data": {
      "text/html": [
       "<div>\n",
       "<style scoped>\n",
       "    .dataframe tbody tr th:only-of-type {\n",
       "        vertical-align: middle;\n",
       "    }\n",
       "\n",
       "    .dataframe tbody tr th {\n",
       "        vertical-align: top;\n",
       "    }\n",
       "\n",
       "    .dataframe thead th {\n",
       "        text-align: right;\n",
       "    }\n",
       "</style>\n",
       "<table border=\"1\" class=\"dataframe\">\n",
       "  <thead>\n",
       "    <tr style=\"text-align: right;\">\n",
       "      <th></th>\n",
       "      <th>id</th>\n",
       "      <th>store_nbr</th>\n",
       "      <th>family</th>\n",
       "      <th>sales</th>\n",
       "      <th>onpromotion</th>\n",
       "      <th>type_x</th>\n",
       "      <th>locale</th>\n",
       "      <th>locale_name</th>\n",
       "      <th>description</th>\n",
       "      <th>transferred</th>\n",
       "      <th>dcoilwtico</th>\n",
       "      <th>city</th>\n",
       "      <th>state</th>\n",
       "      <th>type_y</th>\n",
       "      <th>cluster</th>\n",
       "      <th>transactions</th>\n",
       "    </tr>\n",
       "    <tr>\n",
       "      <th>date</th>\n",
       "      <th></th>\n",
       "      <th></th>\n",
       "      <th></th>\n",
       "      <th></th>\n",
       "      <th></th>\n",
       "      <th></th>\n",
       "      <th></th>\n",
       "      <th></th>\n",
       "      <th></th>\n",
       "      <th></th>\n",
       "      <th></th>\n",
       "      <th></th>\n",
       "      <th></th>\n",
       "      <th></th>\n",
       "      <th></th>\n",
       "      <th></th>\n",
       "    </tr>\n",
       "  </thead>\n",
       "  <tbody>\n",
       "    <tr>\n",
       "      <th>2013-01-01</th>\n",
       "      <td>0</td>\n",
       "      <td>1</td>\n",
       "      <td>AUTOMOTIVE</td>\n",
       "      <td>0.0</td>\n",
       "      <td>0</td>\n",
       "      <td>Holiday</td>\n",
       "      <td>National</td>\n",
       "      <td>Ecuador</td>\n",
       "      <td>Primer dia del ano</td>\n",
       "      <td>False</td>\n",
       "      <td>NaN</td>\n",
       "      <td>Quito</td>\n",
       "      <td>Pichincha</td>\n",
       "      <td>D</td>\n",
       "      <td>13</td>\n",
       "      <td>NaN</td>\n",
       "    </tr>\n",
       "    <tr>\n",
       "      <th>2013-01-01</th>\n",
       "      <td>1</td>\n",
       "      <td>1</td>\n",
       "      <td>BABY CARE</td>\n",
       "      <td>0.0</td>\n",
       "      <td>0</td>\n",
       "      <td>Holiday</td>\n",
       "      <td>National</td>\n",
       "      <td>Ecuador</td>\n",
       "      <td>Primer dia del ano</td>\n",
       "      <td>False</td>\n",
       "      <td>NaN</td>\n",
       "      <td>Quito</td>\n",
       "      <td>Pichincha</td>\n",
       "      <td>D</td>\n",
       "      <td>13</td>\n",
       "      <td>NaN</td>\n",
       "    </tr>\n",
       "    <tr>\n",
       "      <th>2013-01-01</th>\n",
       "      <td>2</td>\n",
       "      <td>1</td>\n",
       "      <td>BEAUTY</td>\n",
       "      <td>0.0</td>\n",
       "      <td>0</td>\n",
       "      <td>Holiday</td>\n",
       "      <td>National</td>\n",
       "      <td>Ecuador</td>\n",
       "      <td>Primer dia del ano</td>\n",
       "      <td>False</td>\n",
       "      <td>NaN</td>\n",
       "      <td>Quito</td>\n",
       "      <td>Pichincha</td>\n",
       "      <td>D</td>\n",
       "      <td>13</td>\n",
       "      <td>NaN</td>\n",
       "    </tr>\n",
       "    <tr>\n",
       "      <th>2013-01-01</th>\n",
       "      <td>3</td>\n",
       "      <td>1</td>\n",
       "      <td>BEVERAGES</td>\n",
       "      <td>0.0</td>\n",
       "      <td>0</td>\n",
       "      <td>Holiday</td>\n",
       "      <td>National</td>\n",
       "      <td>Ecuador</td>\n",
       "      <td>Primer dia del ano</td>\n",
       "      <td>False</td>\n",
       "      <td>NaN</td>\n",
       "      <td>Quito</td>\n",
       "      <td>Pichincha</td>\n",
       "      <td>D</td>\n",
       "      <td>13</td>\n",
       "      <td>NaN</td>\n",
       "    </tr>\n",
       "    <tr>\n",
       "      <th>2013-01-01</th>\n",
       "      <td>4</td>\n",
       "      <td>1</td>\n",
       "      <td>BOOKS</td>\n",
       "      <td>0.0</td>\n",
       "      <td>0</td>\n",
       "      <td>Holiday</td>\n",
       "      <td>National</td>\n",
       "      <td>Ecuador</td>\n",
       "      <td>Primer dia del ano</td>\n",
       "      <td>False</td>\n",
       "      <td>NaN</td>\n",
       "      <td>Quito</td>\n",
       "      <td>Pichincha</td>\n",
       "      <td>D</td>\n",
       "      <td>13</td>\n",
       "      <td>NaN</td>\n",
       "    </tr>\n",
       "  </tbody>\n",
       "</table>\n",
       "</div>"
      ],
      "text/plain": [
       "            id  store_nbr      family  sales  onpromotion   type_x    locale  \\\n",
       "date                                                                           \n",
       "2013-01-01   0          1  AUTOMOTIVE    0.0            0  Holiday  National   \n",
       "2013-01-01   1          1   BABY CARE    0.0            0  Holiday  National   \n",
       "2013-01-01   2          1      BEAUTY    0.0            0  Holiday  National   \n",
       "2013-01-01   3          1   BEVERAGES    0.0            0  Holiday  National   \n",
       "2013-01-01   4          1       BOOKS    0.0            0  Holiday  National   \n",
       "\n",
       "           locale_name         description transferred  dcoilwtico   city  \\\n",
       "date                                                                        \n",
       "2013-01-01     Ecuador  Primer dia del ano       False         NaN  Quito   \n",
       "2013-01-01     Ecuador  Primer dia del ano       False         NaN  Quito   \n",
       "2013-01-01     Ecuador  Primer dia del ano       False         NaN  Quito   \n",
       "2013-01-01     Ecuador  Primer dia del ano       False         NaN  Quito   \n",
       "2013-01-01     Ecuador  Primer dia del ano       False         NaN  Quito   \n",
       "\n",
       "                state type_y  cluster  transactions  \n",
       "date                                                 \n",
       "2013-01-01  Pichincha      D       13           NaN  \n",
       "2013-01-01  Pichincha      D       13           NaN  \n",
       "2013-01-01  Pichincha      D       13           NaN  \n",
       "2013-01-01  Pichincha      D       13           NaN  \n",
       "2013-01-01  Pichincha      D       13           NaN  "
      ]
     },
     "execution_count": 9,
     "metadata": {},
     "output_type": "execute_result"
    }
   ],
   "source": [
    "# setting the date as the id index \n",
    "\n",
    "file.set_index(\"date\", inplace= True)\n",
    "\n",
    "file.head()\n",
    "\n"
   ]
  },
  {
   "cell_type": "code",
   "execution_count": 10,
   "id": "5aaeab50",
   "metadata": {},
   "outputs": [
    {
     "data": {
      "text/plain": [
       "type_x\n",
       "Holiday       304722\n",
       "Event          99792\n",
       "Additional     67716\n",
       "Transfer       16038\n",
       "Work Day        8910\n",
       "Bridge          5346\n",
       "Name: count, dtype: int64"
      ]
     },
     "execution_count": 10,
     "metadata": {},
     "output_type": "execute_result"
    }
   ],
   "source": [
    "# checking for the value counts of the type_x column\n",
    "\n",
    "file.type_x.value_counts()"
   ]
  },
  {
   "cell_type": "markdown",
   "id": "2245d1b8",
   "metadata": {},
   "source": [
    "111, 27\n",
    "\n",
    "drop description, type_x, transferred"
   ]
  },
  {
   "cell_type": "code",
   "execution_count": 11,
   "id": "45abe284",
   "metadata": {},
   "outputs": [
    {
     "data": {
      "text/plain": [
       "array(['AUTOMOTIVE', 'BABY CARE', 'BEAUTY', 'BEVERAGES', 'BOOKS',\n",
       "       'BREAD/BAKERY', 'CELEBRATION', 'CLEANING', 'DAIRY', 'DELI', 'EGGS',\n",
       "       'FROZEN FOODS', 'GROCERY I', 'GROCERY II', 'HARDWARE',\n",
       "       'HOME AND KITCHEN I', 'HOME AND KITCHEN II', 'HOME APPLIANCES',\n",
       "       'HOME CARE', 'LADIESWEAR', 'LAWN AND GARDEN', 'LINGERIE',\n",
       "       'LIQUOR,WINE,BEER', 'MAGAZINES', 'MEATS', 'PERSONAL CARE',\n",
       "       'PET SUPPLIES', 'PLAYERS AND ELECTRONICS', 'POULTRY',\n",
       "       'PREPARED FOODS', 'PRODUCE', 'SCHOOL AND OFFICE SUPPLIES',\n",
       "       'SEAFOOD'], dtype=object)"
      ]
     },
     "execution_count": 11,
     "metadata": {},
     "output_type": "execute_result"
    }
   ],
   "source": [
    "# checking through the unique values of the family column\n",
    "\n",
    "file.family.unique()"
   ]
  },
  {
   "cell_type": "code",
   "execution_count": 12,
   "id": "29a883a9",
   "metadata": {},
   "outputs": [
    {
     "data": {
      "text/plain": [
       "id                    0\n",
       "store_nbr             0\n",
       "family                0\n",
       "sales                 0\n",
       "onpromotion           0\n",
       "type_x          2551824\n",
       "locale          2551824\n",
       "locale_name     2551824\n",
       "description     2551824\n",
       "transferred     2551824\n",
       "dcoilwtico       955152\n",
       "city                  0\n",
       "state                 0\n",
       "type_y                0\n",
       "cluster               0\n",
       "transactions     249117\n",
       "dtype: int64"
      ]
     },
     "execution_count": 12,
     "metadata": {},
     "output_type": "execute_result"
    }
   ],
   "source": [
    "# checking for the sumk fo\n",
    "\n",
    "file.isnull().sum()"
   ]
  },
  {
   "cell_type": "markdown",
   "id": "8b184988",
   "metadata": {},
   "source": [
    "### Data Exploration"
   ]
  },
  {
   "cell_type": "code",
   "execution_count": 30,
   "id": "6218104b",
   "metadata": {},
   "outputs": [
    {
     "data": {
      "text/html": [
       "<div>\n",
       "<style scoped>\n",
       "    .dataframe tbody tr th:only-of-type {\n",
       "        vertical-align: middle;\n",
       "    }\n",
       "\n",
       "    .dataframe tbody tr th {\n",
       "        vertical-align: top;\n",
       "    }\n",
       "\n",
       "    .dataframe thead th {\n",
       "        text-align: right;\n",
       "    }\n",
       "</style>\n",
       "<table border=\"1\" class=\"dataframe\">\n",
       "  <thead>\n",
       "    <tr style=\"text-align: right;\">\n",
       "      <th></th>\n",
       "      <th>id</th>\n",
       "      <th>store_nbr</th>\n",
       "      <th>sales</th>\n",
       "      <th>onpromotion</th>\n",
       "      <th>dcoilwtico</th>\n",
       "      <th>cluster</th>\n",
       "      <th>transactions</th>\n",
       "    </tr>\n",
       "  </thead>\n",
       "  <tbody>\n",
       "    <tr>\n",
       "      <th>count</th>\n",
       "      <td>3.054348e+06</td>\n",
       "      <td>3.054348e+06</td>\n",
       "      <td>3.054348e+06</td>\n",
       "      <td>3.054348e+06</td>\n",
       "      <td>2.099196e+06</td>\n",
       "      <td>3.054348e+06</td>\n",
       "      <td>2.805231e+06</td>\n",
       "    </tr>\n",
       "    <tr>\n",
       "      <th>mean</th>\n",
       "      <td>1.504277e+06</td>\n",
       "      <td>2.750000e+01</td>\n",
       "      <td>3.590209e+02</td>\n",
       "      <td>2.617480e+00</td>\n",
       "      <td>6.801587e+01</td>\n",
       "      <td>8.481481e+00</td>\n",
       "      <td>1.697071e+03</td>\n",
       "    </tr>\n",
       "    <tr>\n",
       "      <th>std</th>\n",
       "      <td>8.662610e+05</td>\n",
       "      <td>1.558579e+01</td>\n",
       "      <td>1.107286e+03</td>\n",
       "      <td>1.225494e+01</td>\n",
       "      <td>2.569134e+01</td>\n",
       "      <td>4.649735e+00</td>\n",
       "      <td>9.668317e+02</td>\n",
       "    </tr>\n",
       "    <tr>\n",
       "      <th>min</th>\n",
       "      <td>0.000000e+00</td>\n",
       "      <td>1.000000e+00</td>\n",
       "      <td>0.000000e+00</td>\n",
       "      <td>0.000000e+00</td>\n",
       "      <td>2.619000e+01</td>\n",
       "      <td>1.000000e+00</td>\n",
       "      <td>5.000000e+00</td>\n",
       "    </tr>\n",
       "    <tr>\n",
       "      <th>25%</th>\n",
       "      <td>7.546768e+05</td>\n",
       "      <td>1.400000e+01</td>\n",
       "      <td>0.000000e+00</td>\n",
       "      <td>0.000000e+00</td>\n",
       "      <td>4.641000e+01</td>\n",
       "      <td>4.000000e+00</td>\n",
       "      <td>1.046000e+03</td>\n",
       "    </tr>\n",
       "    <tr>\n",
       "      <th>50%</th>\n",
       "      <td>1.507572e+06</td>\n",
       "      <td>2.750000e+01</td>\n",
       "      <td>1.100000e+01</td>\n",
       "      <td>0.000000e+00</td>\n",
       "      <td>5.343000e+01</td>\n",
       "      <td>8.500000e+00</td>\n",
       "      <td>1.395000e+03</td>\n",
       "    </tr>\n",
       "    <tr>\n",
       "      <th>75%</th>\n",
       "      <td>2.255120e+06</td>\n",
       "      <td>4.100000e+01</td>\n",
       "      <td>1.960110e+02</td>\n",
       "      <td>0.000000e+00</td>\n",
       "      <td>9.581000e+01</td>\n",
       "      <td>1.300000e+01</td>\n",
       "      <td>2.081000e+03</td>\n",
       "    </tr>\n",
       "    <tr>\n",
       "      <th>max</th>\n",
       "      <td>3.000887e+06</td>\n",
       "      <td>5.400000e+01</td>\n",
       "      <td>1.247170e+05</td>\n",
       "      <td>7.410000e+02</td>\n",
       "      <td>1.106200e+02</td>\n",
       "      <td>1.700000e+01</td>\n",
       "      <td>8.359000e+03</td>\n",
       "    </tr>\n",
       "  </tbody>\n",
       "</table>\n",
       "</div>"
      ],
      "text/plain": [
       "                 id     store_nbr         sales   onpromotion    dcoilwtico  \\\n",
       "count  3.054348e+06  3.054348e+06  3.054348e+06  3.054348e+06  2.099196e+06   \n",
       "mean   1.504277e+06  2.750000e+01  3.590209e+02  2.617480e+00  6.801587e+01   \n",
       "std    8.662610e+05  1.558579e+01  1.107286e+03  1.225494e+01  2.569134e+01   \n",
       "min    0.000000e+00  1.000000e+00  0.000000e+00  0.000000e+00  2.619000e+01   \n",
       "25%    7.546768e+05  1.400000e+01  0.000000e+00  0.000000e+00  4.641000e+01   \n",
       "50%    1.507572e+06  2.750000e+01  1.100000e+01  0.000000e+00  5.343000e+01   \n",
       "75%    2.255120e+06  4.100000e+01  1.960110e+02  0.000000e+00  9.581000e+01   \n",
       "max    3.000887e+06  5.400000e+01  1.247170e+05  7.410000e+02  1.106200e+02   \n",
       "\n",
       "            cluster  transactions  \n",
       "count  3.054348e+06  2.805231e+06  \n",
       "mean   8.481481e+00  1.697071e+03  \n",
       "std    4.649735e+00  9.668317e+02  \n",
       "min    1.000000e+00  5.000000e+00  \n",
       "25%    4.000000e+00  1.046000e+03  \n",
       "50%    8.500000e+00  1.395000e+03  \n",
       "75%    1.300000e+01  2.081000e+03  \n",
       "max    1.700000e+01  8.359000e+03  "
      ]
     },
     "execution_count": 30,
     "metadata": {},
     "output_type": "execute_result"
    }
   ],
   "source": [
    "file.describe()"
   ]
  },
  {
   "cell_type": "markdown",
   "id": "98bc18ff",
   "metadata": {},
   "source": [
    "  "
   ]
  },
  {
   "cell_type": "code",
   "execution_count": 15,
   "id": "f77113e8",
   "metadata": {},
   "outputs": [
    {
     "data": {
      "image/png": "[encoded data removed]",
      "text/plain": [
       "<Figure size 1200x800 with 1 Axes>"
      ]
     },
     "metadata": {},
     "output_type": "display_data"
    }
   ],
   "source": [
    "fig, ax = plt.subplots(figsize=(12,8))\n",
    "plt.plot(file[\"sales\"])\n",
    "plt.title('Sales Trend Over the Years')\n",
    "plt.xlabel('Year')\n",
    "plt.ylabel('Total Sales')\n",
    "plt.xticks(rotation=90);"
   ]
  },
  {
   "cell_type": "markdown",
   "id": "1e631c1d",
   "metadata": {},
   "source": [
    "The graph indicates a consistent spike in sales quantity towards the end of each year. Additionally, a substantial surge in goods quantity is observed between the first and last quarters of the year 2016 to 2017, marking the highest recorded store sales during that period."
   ]
  },
  {
   "cell_type": "markdown",
   "id": "250249b0",
   "metadata": {},
   "source": [
    " "
   ]
  },
  {
   "cell_type": "code",
   "execution_count": 31,
   "id": "29e5e363",
   "metadata": {},
   "outputs": [
    {
     "data": {
      "image/png": "[encoded data removed]",
      "text/plain": [
       "<Figure size 800x400 with 1 Axes>"
      ]
     },
     "metadata": {},
     "output_type": "display_data"
    }
   ],
   "source": [
    "#Plot of sales against diffeernet category\n",
    "fig, ax = plt.subplots(figsize=(8,4))\n",
    "\n",
    "sns.barplot(x = 'type_x' , y= 'sales' , data= file, errorbar=None, color = \"brown\");\n",
    "plt.title(\"Plot of sales against different Event day\");\n"
   ]
  },
  {
   "cell_type": "markdown",
   "id": "c484b0ef",
   "metadata": {},
   "source": [
    "The graph indicates that the inclusion of extra days during holidays has a greater impact on the quantity of goods sold across various stores, followed by days when the holiday was officially transferred, with the second-highest sales. This pattern aligns with the idea that if the transfer is to the following day, people may engage in shopping for the upcoming holiday. Additionally, the plot highlights that actual holiday days contribute the least, possibly because individuals prefer to relax at home and spend time with their families, especially during shorter holidays."
   ]
  },
  {
   "cell_type": "markdown",
   "id": "1dc61658",
   "metadata": {},
   "source": [
    "  "
   ]
  },
  {
   "cell_type": "code",
   "execution_count": 16,
   "id": "b1b5f61c",
   "metadata": {},
   "outputs": [
    {
     "data": {
      "image/png": "[encoded data removed]",
      "text/plain": [
       "<Figure size 800x400 with 1 Axes>"
      ]
     },
     "metadata": {},
     "output_type": "display_data"
    }
   ],
   "source": [
    "#Plot of sales from different cities\n",
    "\n",
    "fig, ax = plt.subplots(figsize=(8,4))\n",
    "\n",
    "sns.barplot(x = 'city' , y= 'sales' , data= file, errorbar=None, color = \"brown\");\n",
    "plt.title(\"City and their respective sales\");\n",
    "plt.xticks(rotation=90);"
   ]
  },
  {
   "cell_type": "markdown",
   "id": "8121762a",
   "metadata": {},
   "source": [
    "The graph illustrates that the predominant share of sales originates from Quito city, with significant contributions from Cayambe, both surpassing 500 units sold. In contrast, other cities register sales below 300 units.\n",
    "\n"
   ]
  },
  {
   "cell_type": "markdown",
   "id": "9b4fcb85",
   "metadata": {},
   "source": [
    " "
   ]
  },
  {
   "cell_type": "code",
   "execution_count": 17,
   "id": "c6085ae9",
   "metadata": {},
   "outputs": [
    {
     "data": {
      "image/png": "[encoded data removed]",
      "text/plain": [
       "<Figure size 800x400 with 1 Axes>"
      ]
     },
     "metadata": {},
     "output_type": "display_data"
    }
   ],
   "source": [
    "# pLot of cities with their respectives promotion\n",
    "# order=file.groupby('city')['onpromotion'].mean().sort_values(ascending=False).index\n",
    "fig, ax = plt.subplots(figsize=(8,4))\n",
    "\n",
    "sns.barplot(x ='city' , y='onpromotion' , data= file, errorbar=None, color = \"brown\");\n",
    "plt.title(\"pLot of cities with their respectives promotion\");\n",
    "plt.xticks(rotation=90);"
   ]
  },
  {
   "cell_type": "markdown",
   "id": "c988e83e",
   "metadata": {},
   "source": [
    "The graph indicates a higher occurrence of promotions in Cayambe and Quito city, likely contributing to the substantial sales in these areas. Nevertheless, the plot reveals a relatively spread of sales promotions across various cities."
   ]
  },
  {
   "cell_type": "markdown",
   "id": "7ccef2ed",
   "metadata": {},
   "source": [
    " "
   ]
  },
  {
   "cell_type": "code",
   "execution_count": 32,
   "id": "3aa6a086",
   "metadata": {},
   "outputs": [
    {
     "name": "stdout",
     "output_type": "stream",
     "text": [
      "Correlation: 0.428\n"
     ]
    },
    {
     "data": {
      "image/png": "[encoded data removed]",
      "text/plain": [
       "<Figure size 800x400 with 1 Axes>"
      ]
     },
     "metadata": {},
     "output_type": "display_data"
    }
   ],
   "source": [
    "# Correlation of sales with on promotion\n",
    "fig, ax = plt.subplots(figsize=(8,4))\n",
    "sns.scatterplot(x=\"onpromotion\", y=\"sales\", data = file);\n",
    "plt.title(\"Correlation of sales with on promotion\")\n",
    "\n",
    "corr = file[\"onpromotion\"].corr(file[\"sales\"]);\n",
    "print(f\"Correlation: {corr:.3}\");"
   ]
  },
  {
   "cell_type": "markdown",
   "id": "b7d70ade",
   "metadata": {},
   "source": [
    "When sales are low, the company tends to increase promotions to stimulate sales. However, when sales reach their peak, fewer promotions are implemented. The correlation between sales and promotion is not strong, as sales peak while promotion efforts decrease or become non-existent."
   ]
  },
  {
   "cell_type": "markdown",
   "id": "af345c1e",
   "metadata": {},
   "source": [
    " "
   ]
  },
  {
   "cell_type": "code",
   "execution_count": 33,
   "id": "5c5fc280",
   "metadata": {},
   "outputs": [
    {
     "name": "stdout",
     "output_type": "stream",
     "text": [
      "Correlation value: -0.07939344988982726\n"
     ]
    },
    {
     "data": {
      "image/png": "[encoded data removed]",
      "text/plain": [
       "<Figure size 800x400 with 1 Axes>"
      ]
     },
     "metadata": {},
     "output_type": "display_data"
    }
   ],
   "source": [
    "# plot of sales with Oil price\n",
    "fig, ax = plt.subplots(figsize=(8,4))\n",
    "plt.scatter(y= file[\"sales\"], x=file[\"dcoilwtico\"]);\n",
    "plt.title(\"Sales with Oil price\")\n",
    "plt.xlabel(\"Oil Price\")\n",
    "plt.ylabel(\"Sales\")\n",
    "\n",
    "corr1 = file[\"sales\"].corr(file[\"dcoilwtico\"]);\n",
    "print(f\"Correlation value: {corr1}\");"
   ]
  },
  {
   "cell_type": "markdown",
   "id": "adc1fc24",
   "metadata": {},
   "source": [
    "There is a negative correlation with a minimal impact. According to the plot, the influence on sales is more pronounced when the oil price ranges from 0 to 100, particularly at its lowest. However, as sales approach their peaks, the impact of oil prices diminishes."
   ]
  },
  {
   "cell_type": "markdown",
   "id": "725921f3",
   "metadata": {},
   "source": [
    "  "
   ]
  },
  {
   "cell_type": "code",
   "execution_count": 16,
   "id": "9eb3040e",
   "metadata": {},
   "outputs": [],
   "source": [
    "# grouping based on product family and sorting in order\n",
    "\n",
    "sort_sales = file.groupby(\"family\").sum().sort_values(by=\"sales\", ascending=False)\n",
    "sort_sales_f_10 = sort_sales.head(10)\n",
    "sort_sales_L_10 = sort_sales.tail(10)"
   ]
  },
  {
   "cell_type": "code",
   "execution_count": 17,
   "id": "06b1a45a",
   "metadata": {},
   "outputs": [
    {
     "data": {
      "image/png": "[encoded data removed]",
      "text/plain": [
       "<Figure size 1152x720 with 4 Axes>"
      ]
     },
     "metadata": {
      "needs_background": "light"
     },
     "output_type": "display_data"
    }
   ],
   "source": [
    "fig, ax= plt.subplots(figsize = (8,10))\n",
    "\n",
    "plt.subplot(2,2,1)\n",
    "sort_sales_f_10.sales.plot(kind=\"bar\")\n",
    "plt.xlabel(\"Sales\")\n",
    "plt.ylabel(\"Product Family\")\n",
    "plt.title(\"Product Family with the Top 10 Sales\")\n",
    "\n",
    "plt.subplot(2,2,2)\n",
    "sort_sales_f_10.onpromotion.plot(kind=\"bar\")\n",
    "plt.xlabel(\"Sales\")\n",
    "plt.ylabel(\"Product Family Promotion\")\n",
    "plt.title(\" Top 10 sales of Product Family  with Promotion\")\n",
    "\n",
    "plt.subplot(2,2,3)\n",
    "sort_sales_L_10.sales.plot(kind=\"bar\")\n",
    "plt.xlabel(\"Sales\")\n",
    "plt.ylabel(\"Product Family\")\n",
    "plt.title(\"Product Family with the 10 least Sales\")\n",
    "\n",
    "plt.subplot(2,2,4)\n",
    "sort_sales_L_10.onpromotion.plot(kind=\"bar\")\n",
    "plt.xlabel(\"Sales\")\n",
    "plt.ylabel(\"Product Family Promotion\")\n",
    "plt.title(\" Least 10 sales of Product Family  with Promotion\")\n",
    "\n",
    "\n",
    "plt.tight_layout()\n",
    "plt.subplots_adjust(hspace=2)"
   ]
  },
  {
   "cell_type": "markdown",
   "id": "557c8cff",
   "metadata": {},
   "source": [
    "The chart displays the top 10 sales based on product families, with groceries making the most substantial contribution to the total sales, followed by beverages. Conversely, automotive and lawn and garden contribute the least to the overall sales.\n",
    "\n",
    "Additionally, the plot reveals that product families with higher promotion levels contributed more significantly to the total revenue. Conversely, product families with minimal or no promotion made lesser contributions to the total sales, emphasizing that the majority of the revenue is derived from promoted products."
   ]
  },
  {
   "cell_type": "markdown",
   "id": "1b2735ca",
   "metadata": {},
   "source": [
    "**Findings Summary:**\n",
    "\n",
    "1. **Sales Distribution by Product Family:**\n",
    "   - Groceries and beverages stand out as the top contributors to total sales.\n",
    "   - Automotive and lawn and garden product families contribute the least to overall sales.\n",
    "\n",
    "2. **Impact of Promotion on Revenue:**\n",
    "   - Product families with higher promotion levels show a more significant contribution to total revenue.\n",
    "   - Families with minimal or no promotion make lesser contributions, indicating the importance of promotional activities in driving sales.\n",
    "\n",
    "3. **Oil Price Impact:**\n",
    "   - The influence of oil prices on sales is more pronounced at lower price ranges (0 to 100), particularly when sales are at their lowest.\n",
    "   - As sales reach their peaks, the impact of oil prices diminishes.\n",
    "\n",
    "4. **Correlation Between Sales and Promotion:**\n",
    "   - A negative correlation exists between sales and promotion, with sales peaking while promotion efforts decrease or become non-existent.\n",
    "\n"
   ]
  },
  {
   "cell_type": "markdown",
   "id": "c3131f9b",
   "metadata": {},
   "source": [
    "  "
   ]
  },
  {
   "cell_type": "markdown",
   "id": "14a5898a",
   "metadata": {},
   "source": [
    "**Recommendations to Improve:**\n",
    "\n",
    "1. **Optimize Promotion Strategies:**\n",
    "   - Evaluate and refine promotion strategies for product families to ensure a balanced and effective approach.\n",
    "   - Consider increasing promotions for product families with lower sales to stimulate growth.\n",
    "\n",
    "2. **Diversify Product Offerings:**\n",
    "   - Explore opportunities to diversify product offerings, especially within the automotive and lawn and garden categories, to potentially boost sales.\n",
    "\n",
    "3. **Monitor Oil Price Sensitivity:**\n",
    "   - Continuously monitor the sensitivity of sales to oil price fluctuations and adjust strategies accordingly.\n",
    "   - Consider implementing targeted marketing efforts during periods of higher oil prices to mitigate potential negative effects.\n",
    "\n",
    "4. **Sales Variation:**\n",
    "   - Tailor promotional strategies to local preferences and market dynamics.\n",
    "\n",
    "5. **Customer Engagement Programs:**\n",
    "   - Implement customer engagement programs to enhance loyalty and encourage repeat purchases.\n",
    "   - Leverage data on past sales and customer behavior to create personalized promotions.\n",
    "\n"
   ]
  },
  {
   "cell_type": "markdown",
   "id": "c51c15af",
   "metadata": {},
   "source": [
    "  "
   ]
  },
  {
   "cell_type": "code",
   "execution_count": 38,
   "id": "3d1d0971",
   "metadata": {},
   "outputs": [
    {
     "data": {
      "text/html": [
       "<style type=\"text/css\">\n",
       "#T_238e4_row0_col0, #T_238e4_row1_col1, #T_238e4_row2_col2, #T_238e4_row3_col3 {\n",
       "  background-color: #b40426;\n",
       "  color: #f1f1f1;\n",
       "}\n",
       "#T_238e4_row0_col1, #T_238e4_row1_col0, #T_238e4_row1_col2, #T_238e4_row1_col3 {\n",
       "  background-color: #3b4cc0;\n",
       "  color: #f1f1f1;\n",
       "}\n",
       "#T_238e4_row0_col2 {\n",
       "  background-color: #485fd1;\n",
       "  color: #f1f1f1;\n",
       "}\n",
       "#T_238e4_row0_col3 {\n",
       "  background-color: #7b9ff9;\n",
       "  color: #f1f1f1;\n",
       "}\n",
       "#T_238e4_row2_col0 {\n",
       "  background-color: #5470de;\n",
       "  color: #f1f1f1;\n",
       "}\n",
       "#T_238e4_row2_col1 {\n",
       "  background-color: #465ecf;\n",
       "  color: #f1f1f1;\n",
       "}\n",
       "#T_238e4_row2_col3 {\n",
       "  background-color: #c7d7f0;\n",
       "  color: #000000;\n",
       "}\n",
       "#T_238e4_row3_col0 {\n",
       "  background-color: #7da0f9;\n",
       "  color: #f1f1f1;\n",
       "}\n",
       "#T_238e4_row3_col1 {\n",
       "  background-color: #3c4ec2;\n",
       "  color: #f1f1f1;\n",
       "}\n",
       "#T_238e4_row3_col2 {\n",
       "  background-color: #c1d4f4;\n",
       "  color: #000000;\n",
       "}\n",
       "</style>\n",
       "<table id=\"T_238e4\">\n",
       "  <thead>\n",
       "    <tr>\n",
       "      <th class=\"blank level0\" >&nbsp;</th>\n",
       "      <th id=\"T_238e4_level0_col0\" class=\"col_heading level0 col0\" >id</th>\n",
       "      <th id=\"T_238e4_level0_col1\" class=\"col_heading level0 col1\" >store_nbr</th>\n",
       "      <th id=\"T_238e4_level0_col2\" class=\"col_heading level0 col2\" >sales</th>\n",
       "      <th id=\"T_238e4_level0_col3\" class=\"col_heading level0 col3\" >onpromotion</th>\n",
       "    </tr>\n",
       "  </thead>\n",
       "  <tbody>\n",
       "    <tr>\n",
       "      <th id=\"T_238e4_level0_row0\" class=\"row_heading level0 row0\" >id</th>\n",
       "      <td id=\"T_238e4_row0_col0\" class=\"data row0 col0\" >1.000000</td>\n",
       "      <td id=\"T_238e4_row0_col1\" class=\"data row0 col1\" >0.000301</td>\n",
       "      <td id=\"T_238e4_row0_col2\" class=\"data row0 col2\" >0.085784</td>\n",
       "      <td id=\"T_238e4_row0_col3\" class=\"data row0 col3\" >0.206260</td>\n",
       "    </tr>\n",
       "    <tr>\n",
       "      <th id=\"T_238e4_level0_row1\" class=\"row_heading level0 row1\" >store_nbr</th>\n",
       "      <td id=\"T_238e4_row1_col0\" class=\"data row1 col0\" >0.000301</td>\n",
       "      <td id=\"T_238e4_row1_col1\" class=\"data row1 col1\" >1.000000</td>\n",
       "      <td id=\"T_238e4_row1_col2\" class=\"data row1 col2\" >0.041196</td>\n",
       "      <td id=\"T_238e4_row1_col3\" class=\"data row1 col3\" >0.007286</td>\n",
       "    </tr>\n",
       "    <tr>\n",
       "      <th id=\"T_238e4_level0_row2\" class=\"row_heading level0 row2\" >sales</th>\n",
       "      <td id=\"T_238e4_row2_col0\" class=\"data row2 col0\" >0.085784</td>\n",
       "      <td id=\"T_238e4_row2_col1\" class=\"data row2 col1\" >0.041196</td>\n",
       "      <td id=\"T_238e4_row2_col2\" class=\"data row2 col2\" >1.000000</td>\n",
       "      <td id=\"T_238e4_row2_col3\" class=\"data row2 col3\" >0.427923</td>\n",
       "    </tr>\n",
       "    <tr>\n",
       "      <th id=\"T_238e4_level0_row3\" class=\"row_heading level0 row3\" >onpromotion</th>\n",
       "      <td id=\"T_238e4_row3_col0\" class=\"data row3 col0\" >0.206260</td>\n",
       "      <td id=\"T_238e4_row3_col1\" class=\"data row3 col1\" >0.007286</td>\n",
       "      <td id=\"T_238e4_row3_col2\" class=\"data row3 col2\" >0.427923</td>\n",
       "      <td id=\"T_238e4_row3_col3\" class=\"data row3 col3\" >1.000000</td>\n",
       "    </tr>\n",
       "  </tbody>\n",
       "</table>\n"
      ],
      "text/plain": [
       "<pandas.io.formats.style.Styler at 0x239006696d0>"
      ]
     },
     "execution_count": 38,
     "metadata": {},
     "output_type": "execute_result"
    }
   ],
   "source": [
    "# we need to plot heat, so as to know the variables that are high correlated and drop them\n",
    "#corr = df5.select_dtypes(exclude=\"object\").corr()\n",
    "#sns.heatmap(corr)\n",
    "\n",
    "df5.select_dtypes(exclude=\"object\").corr().style.background_gradient(cmap=\"coolwarm\")"
   ]
  },
  {
   "cell_type": "markdown",
   "id": "fc639206",
   "metadata": {},
   "source": [
    "  "
   ]
  },
  {
   "cell_type": "markdown",
   "id": "e1662db5",
   "metadata": {},
   "source": [
    "### Training the Model"
   ]
  },
  {
   "cell_type": "code",
   "execution_count": 1,
   "id": "f58c9c65",
   "metadata": {},
   "outputs": [],
   "source": [
    "# load the libraries\n",
    "import pandas as pd\n",
    "import matplotlib.pyplot as plt\n",
    "from sklearn.model_selection import train_test_split\n",
    "from sklearn.linear_model import LinearRegression\n",
    "from sklearn.pipeline import Pipeline, make_pipeline\n",
    "from category_encoders import OneHotEncoder\n",
    "from sklearn.impute import SimpleImputer\n",
    "from statsmodels.graphics.tsaplots import plot_acf, plot_pacf\n",
    "from statsmodels.tsa.arima.model import ARIMA\n",
    "from statsmodels.tsa.statespace.sarimax import SARIMAX\n",
    "from sklearn.metrics import mean_absolute_error\n",
    "import time\n",
    "import numpy as np"
   ]
  },
  {
   "cell_type": "code",
   "execution_count": 13,
   "id": "6de6f564",
   "metadata": {},
   "outputs": [
    {
     "data": {
      "text/html": [
       "<div>\n",
       "<style scoped>\n",
       "    .dataframe tbody tr th:only-of-type {\n",
       "        vertical-align: middle;\n",
       "    }\n",
       "\n",
       "    .dataframe tbody tr th {\n",
       "        vertical-align: top;\n",
       "    }\n",
       "\n",
       "    .dataframe thead th {\n",
       "        text-align: right;\n",
       "    }\n",
       "</style>\n",
       "<table border=\"1\" class=\"dataframe\">\n",
       "  <thead>\n",
       "    <tr style=\"text-align: right;\">\n",
       "      <th></th>\n",
       "      <th>store_nbr</th>\n",
       "      <th>family</th>\n",
       "      <th>sales</th>\n",
       "      <th>onpromotion</th>\n",
       "    </tr>\n",
       "    <tr>\n",
       "      <th>date</th>\n",
       "      <th></th>\n",
       "      <th></th>\n",
       "      <th></th>\n",
       "      <th></th>\n",
       "    </tr>\n",
       "  </thead>\n",
       "  <tbody>\n",
       "    <tr>\n",
       "      <th>2013-01-01</th>\n",
       "      <td>1</td>\n",
       "      <td>AUTOMOTIVE</td>\n",
       "      <td>0.0</td>\n",
       "      <td>0</td>\n",
       "    </tr>\n",
       "    <tr>\n",
       "      <th>2013-01-01</th>\n",
       "      <td>1</td>\n",
       "      <td>BABY CARE</td>\n",
       "      <td>0.0</td>\n",
       "      <td>0</td>\n",
       "    </tr>\n",
       "    <tr>\n",
       "      <th>2013-01-01</th>\n",
       "      <td>1</td>\n",
       "      <td>BEAUTY</td>\n",
       "      <td>0.0</td>\n",
       "      <td>0</td>\n",
       "    </tr>\n",
       "    <tr>\n",
       "      <th>2013-01-01</th>\n",
       "      <td>1</td>\n",
       "      <td>BEVERAGES</td>\n",
       "      <td>0.0</td>\n",
       "      <td>0</td>\n",
       "    </tr>\n",
       "    <tr>\n",
       "      <th>2013-01-01</th>\n",
       "      <td>1</td>\n",
       "      <td>BOOKS</td>\n",
       "      <td>0.0</td>\n",
       "      <td>0</td>\n",
       "    </tr>\n",
       "  </tbody>\n",
       "</table>\n",
       "</div>"
      ],
      "text/plain": [
       "            store_nbr      family  sales  onpromotion\n",
       "date                                                 \n",
       "2013-01-01          1  AUTOMOTIVE    0.0            0\n",
       "2013-01-01          1   BABY CARE    0.0            0\n",
       "2013-01-01          1      BEAUTY    0.0            0\n",
       "2013-01-01          1   BEVERAGES    0.0            0\n",
       "2013-01-01          1       BOOKS    0.0            0"
      ]
     },
     "execution_count": 13,
     "metadata": {},
     "output_type": "execute_result"
    }
   ],
   "source": [
    "data = pd.read_csv(\"train.csv\", index_col=\"date\").drop(columns=\"id\")\n",
    "data.index = pd.to_datetime(data.index)\n",
    "data.head()"
   ]
  },
  {
   "cell_type": "code",
   "execution_count": 6,
   "id": "f84c24ac",
   "metadata": {},
   "outputs": [
    {
     "name": "stdout",
     "output_type": "stream",
     "text": [
      "<class 'pandas.core.frame.DataFrame'>\n",
      "DatetimeIndex: 3000888 entries, 2013-01-01 to 2017-08-15\n",
      "Data columns (total 4 columns):\n",
      " #   Column       Dtype  \n",
      "---  ------       -----  \n",
      " 0   store_nbr    int64  \n",
      " 1   family       object \n",
      " 2   sales        float64\n",
      " 3   onpromotion  int64  \n",
      "dtypes: float64(1), int64(2), object(1)\n",
      "memory usage: 114.5+ MB\n"
     ]
    }
   ],
   "source": [
    "data.info()"
   ]
  },
  {
   "cell_type": "code",
   "execution_count": 14,
   "id": "712aeef1",
   "metadata": {},
   "outputs": [],
   "source": [
    "dat = pd.get_dummies(data, columns=['family'], drop_first=True)\n",
    "dat = dat.astype(int)\n"
   ]
  },
  {
   "cell_type": "code",
   "execution_count": 8,
   "id": "c6878f21",
   "metadata": {},
   "outputs": [
    {
     "data": {
      "text/html": [
       "<div>\n",
       "<style scoped>\n",
       "    .dataframe tbody tr th:only-of-type {\n",
       "        vertical-align: middle;\n",
       "    }\n",
       "\n",
       "    .dataframe tbody tr th {\n",
       "        vertical-align: top;\n",
       "    }\n",
       "\n",
       "    .dataframe thead th {\n",
       "        text-align: right;\n",
       "    }\n",
       "</style>\n",
       "<table border=\"1\" class=\"dataframe\">\n",
       "  <thead>\n",
       "    <tr style=\"text-align: right;\">\n",
       "      <th></th>\n",
       "      <th>store_nbr</th>\n",
       "      <th>sales</th>\n",
       "      <th>onpromotion</th>\n",
       "      <th>family_BABY CARE</th>\n",
       "      <th>family_BEAUTY</th>\n",
       "      <th>family_BEVERAGES</th>\n",
       "      <th>family_BOOKS</th>\n",
       "      <th>family_BREAD/BAKERY</th>\n",
       "      <th>family_CELEBRATION</th>\n",
       "      <th>family_CLEANING</th>\n",
       "      <th>...</th>\n",
       "      <th>family_MAGAZINES</th>\n",
       "      <th>family_MEATS</th>\n",
       "      <th>family_PERSONAL CARE</th>\n",
       "      <th>family_PET SUPPLIES</th>\n",
       "      <th>family_PLAYERS AND ELECTRONICS</th>\n",
       "      <th>family_POULTRY</th>\n",
       "      <th>family_PREPARED FOODS</th>\n",
       "      <th>family_PRODUCE</th>\n",
       "      <th>family_SCHOOL AND OFFICE SUPPLIES</th>\n",
       "      <th>family_SEAFOOD</th>\n",
       "    </tr>\n",
       "    <tr>\n",
       "      <th>date</th>\n",
       "      <th></th>\n",
       "      <th></th>\n",
       "      <th></th>\n",
       "      <th></th>\n",
       "      <th></th>\n",
       "      <th></th>\n",
       "      <th></th>\n",
       "      <th></th>\n",
       "      <th></th>\n",
       "      <th></th>\n",
       "      <th></th>\n",
       "      <th></th>\n",
       "      <th></th>\n",
       "      <th></th>\n",
       "      <th></th>\n",
       "      <th></th>\n",
       "      <th></th>\n",
       "      <th></th>\n",
       "      <th></th>\n",
       "      <th></th>\n",
       "      <th></th>\n",
       "    </tr>\n",
       "  </thead>\n",
       "  <tbody>\n",
       "    <tr>\n",
       "      <th>2013-01-01</th>\n",
       "      <td>1</td>\n",
       "      <td>0</td>\n",
       "      <td>0</td>\n",
       "      <td>0</td>\n",
       "      <td>0</td>\n",
       "      <td>0</td>\n",
       "      <td>0</td>\n",
       "      <td>0</td>\n",
       "      <td>0</td>\n",
       "      <td>0</td>\n",
       "      <td>...</td>\n",
       "      <td>0</td>\n",
       "      <td>0</td>\n",
       "      <td>0</td>\n",
       "      <td>0</td>\n",
       "      <td>0</td>\n",
       "      <td>0</td>\n",
       "      <td>0</td>\n",
       "      <td>0</td>\n",
       "      <td>0</td>\n",
       "      <td>0</td>\n",
       "    </tr>\n",
       "    <tr>\n",
       "      <th>2013-01-01</th>\n",
       "      <td>1</td>\n",
       "      <td>0</td>\n",
       "      <td>0</td>\n",
       "      <td>1</td>\n",
       "      <td>0</td>\n",
       "      <td>0</td>\n",
       "      <td>0</td>\n",
       "      <td>0</td>\n",
       "      <td>0</td>\n",
       "      <td>0</td>\n",
       "      <td>...</td>\n",
       "      <td>0</td>\n",
       "      <td>0</td>\n",
       "      <td>0</td>\n",
       "      <td>0</td>\n",
       "      <td>0</td>\n",
       "      <td>0</td>\n",
       "      <td>0</td>\n",
       "      <td>0</td>\n",
       "      <td>0</td>\n",
       "      <td>0</td>\n",
       "    </tr>\n",
       "    <tr>\n",
       "      <th>2013-01-01</th>\n",
       "      <td>1</td>\n",
       "      <td>0</td>\n",
       "      <td>0</td>\n",
       "      <td>0</td>\n",
       "      <td>1</td>\n",
       "      <td>0</td>\n",
       "      <td>0</td>\n",
       "      <td>0</td>\n",
       "      <td>0</td>\n",
       "      <td>0</td>\n",
       "      <td>...</td>\n",
       "      <td>0</td>\n",
       "      <td>0</td>\n",
       "      <td>0</td>\n",
       "      <td>0</td>\n",
       "      <td>0</td>\n",
       "      <td>0</td>\n",
       "      <td>0</td>\n",
       "      <td>0</td>\n",
       "      <td>0</td>\n",
       "      <td>0</td>\n",
       "    </tr>\n",
       "    <tr>\n",
       "      <th>2013-01-01</th>\n",
       "      <td>1</td>\n",
       "      <td>0</td>\n",
       "      <td>0</td>\n",
       "      <td>0</td>\n",
       "      <td>0</td>\n",
       "      <td>1</td>\n",
       "      <td>0</td>\n",
       "      <td>0</td>\n",
       "      <td>0</td>\n",
       "      <td>0</td>\n",
       "      <td>...</td>\n",
       "      <td>0</td>\n",
       "      <td>0</td>\n",
       "      <td>0</td>\n",
       "      <td>0</td>\n",
       "      <td>0</td>\n",
       "      <td>0</td>\n",
       "      <td>0</td>\n",
       "      <td>0</td>\n",
       "      <td>0</td>\n",
       "      <td>0</td>\n",
       "    </tr>\n",
       "    <tr>\n",
       "      <th>2013-01-01</th>\n",
       "      <td>1</td>\n",
       "      <td>0</td>\n",
       "      <td>0</td>\n",
       "      <td>0</td>\n",
       "      <td>0</td>\n",
       "      <td>0</td>\n",
       "      <td>1</td>\n",
       "      <td>0</td>\n",
       "      <td>0</td>\n",
       "      <td>0</td>\n",
       "      <td>...</td>\n",
       "      <td>0</td>\n",
       "      <td>0</td>\n",
       "      <td>0</td>\n",
       "      <td>0</td>\n",
       "      <td>0</td>\n",
       "      <td>0</td>\n",
       "      <td>0</td>\n",
       "      <td>0</td>\n",
       "      <td>0</td>\n",
       "      <td>0</td>\n",
       "    </tr>\n",
       "  </tbody>\n",
       "</table>\n",
       "<p>5 rows × 35 columns</p>\n",
       "</div>"
      ],
      "text/plain": [
       "            store_nbr  sales  onpromotion  family_BABY CARE  family_BEAUTY  \\\n",
       "date                                                                         \n",
       "2013-01-01          1      0            0                 0              0   \n",
       "2013-01-01          1      0            0                 1              0   \n",
       "2013-01-01          1      0            0                 0              1   \n",
       "2013-01-01          1      0            0                 0              0   \n",
       "2013-01-01          1      0            0                 0              0   \n",
       "\n",
       "            family_BEVERAGES  family_BOOKS  family_BREAD/BAKERY  \\\n",
       "date                                                              \n",
       "2013-01-01                 0             0                    0   \n",
       "2013-01-01                 0             0                    0   \n",
       "2013-01-01                 0             0                    0   \n",
       "2013-01-01                 1             0                    0   \n",
       "2013-01-01                 0             1                    0   \n",
       "\n",
       "            family_CELEBRATION  family_CLEANING  ...  family_MAGAZINES  \\\n",
       "date                                             ...                     \n",
       "2013-01-01                   0                0  ...                 0   \n",
       "2013-01-01                   0                0  ...                 0   \n",
       "2013-01-01                   0                0  ...                 0   \n",
       "2013-01-01                   0                0  ...                 0   \n",
       "2013-01-01                   0                0  ...                 0   \n",
       "\n",
       "            family_MEATS  family_PERSONAL CARE  family_PET SUPPLIES  \\\n",
       "date                                                                  \n",
       "2013-01-01             0                     0                    0   \n",
       "2013-01-01             0                     0                    0   \n",
       "2013-01-01             0                     0                    0   \n",
       "2013-01-01             0                     0                    0   \n",
       "2013-01-01             0                     0                    0   \n",
       "\n",
       "            family_PLAYERS AND ELECTRONICS  family_POULTRY  \\\n",
       "date                                                         \n",
       "2013-01-01                               0               0   \n",
       "2013-01-01                               0               0   \n",
       "2013-01-01                               0               0   \n",
       "2013-01-01                               0               0   \n",
       "2013-01-01                               0               0   \n",
       "\n",
       "            family_PREPARED FOODS  family_PRODUCE  \\\n",
       "date                                                \n",
       "2013-01-01                      0               0   \n",
       "2013-01-01                      0               0   \n",
       "2013-01-01                      0               0   \n",
       "2013-01-01                      0               0   \n",
       "2013-01-01                      0               0   \n",
       "\n",
       "            family_SCHOOL AND OFFICE SUPPLIES  family_SEAFOOD  \n",
       "date                                                           \n",
       "2013-01-01                                  0               0  \n",
       "2013-01-01                                  0               0  \n",
       "2013-01-01                                  0               0  \n",
       "2013-01-01                                  0               0  \n",
       "2013-01-01                                  0               0  \n",
       "\n",
       "[5 rows x 35 columns]"
      ]
     },
     "execution_count": 8,
     "metadata": {},
     "output_type": "execute_result"
    }
   ],
   "source": [
    "dat.head()"
   ]
  },
  {
   "cell_type": "code",
   "execution_count": 9,
   "id": "79b794ce",
   "metadata": {},
   "outputs": [
    {
     "name": "stdout",
     "output_type": "stream",
     "text": [
      "<class 'pandas.core.frame.DataFrame'>\n",
      "DatetimeIndex: 3000888 entries, 2013-01-01 to 2017-08-15\n",
      "Data columns (total 35 columns):\n",
      " #   Column                             Dtype\n",
      "---  ------                             -----\n",
      " 0   store_nbr                          int32\n",
      " 1   sales                              int32\n",
      " 2   onpromotion                        int32\n",
      " 3   family_BABY CARE                   int32\n",
      " 4   family_BEAUTY                      int32\n",
      " 5   family_BEVERAGES                   int32\n",
      " 6   family_BOOKS                       int32\n",
      " 7   family_BREAD/BAKERY                int32\n",
      " 8   family_CELEBRATION                 int32\n",
      " 9   family_CLEANING                    int32\n",
      " 10  family_DAIRY                       int32\n",
      " 11  family_DELI                        int32\n",
      " 12  family_EGGS                        int32\n",
      " 13  family_FROZEN FOODS                int32\n",
      " 14  family_GROCERY I                   int32\n",
      " 15  family_GROCERY II                  int32\n",
      " 16  family_HARDWARE                    int32\n",
      " 17  family_HOME AND KITCHEN I          int32\n",
      " 18  family_HOME AND KITCHEN II         int32\n",
      " 19  family_HOME APPLIANCES             int32\n",
      " 20  family_HOME CARE                   int32\n",
      " 21  family_LADIESWEAR                  int32\n",
      " 22  family_LAWN AND GARDEN             int32\n",
      " 23  family_LINGERIE                    int32\n",
      " 24  family_LIQUOR,WINE,BEER            int32\n",
      " 25  family_MAGAZINES                   int32\n",
      " 26  family_MEATS                       int32\n",
      " 27  family_PERSONAL CARE               int32\n",
      " 28  family_PET SUPPLIES                int32\n",
      " 29  family_PLAYERS AND ELECTRONICS     int32\n",
      " 30  family_POULTRY                     int32\n",
      " 31  family_PREPARED FOODS              int32\n",
      " 32  family_PRODUCE                     int32\n",
      " 33  family_SCHOOL AND OFFICE SUPPLIES  int32\n",
      " 34  family_SEAFOOD                     int32\n",
      "dtypes: int32(35)\n",
      "memory usage: 423.6 MB\n"
     ]
    }
   ],
   "source": [
    "dat.info()"
   ]
  },
  {
   "cell_type": "code",
   "execution_count": null,
   "id": "15cc9189",
   "metadata": {},
   "outputs": [],
   "source": [
    "# Plot of the ACF\n",
    "fig, ax = plt.subplots(figsize=(10, 5))\n",
    "plot_acf(data[\"sales\"], ax=ax)\n",
    "\n",
    "plt.show"
   ]
  },
  {
   "cell_type": "markdown",
   "id": "36d01370",
   "metadata": {},
   "source": [
    "### Train the model for prediction"
   ]
  },
  {
   "cell_type": "markdown",
   "id": "92148a97",
   "metadata": {},
   "source": [
    "#### Train/Test Split"
   ]
  },
  {
   "cell_type": "code",
   "execution_count": 15,
   "id": "709b0a8b",
   "metadata": {},
   "outputs": [
    {
     "name": "stdout",
     "output_type": "stream",
     "text": [
      "Train Shape: (267300, 35)\n",
      "Test Shape: (297594, 35)\n"
     ]
    }
   ],
   "source": [
    "# for now, we will not be adding any new feature.\n",
    "train = dat.loc[\"2013-01-01\":\"2013-05-30\"]\n",
    "cut=\"2016-12-31\"\n",
    "\n",
    "test = dat.loc[cut: \"2017-06-15\"]\n",
    "\n",
    "print(\"Train Shape:\", train.shape)\n",
    "print(\"Test Shape:\", test.shape)"
   ]
  },
  {
   "cell_type": "code",
   "execution_count": 16,
   "id": "603aaa93",
   "metadata": {},
   "outputs": [],
   "source": [
    "# train\n",
    "\n",
    "target = \"sales\"\n",
    "y_train = train[target]\n",
    "x_train = train.drop(columns=\"sales\")"
   ]
  },
  {
   "cell_type": "code",
   "execution_count": 19,
   "id": "86d937a2",
   "metadata": {},
   "outputs": [
    {
     "data": {
      "text/plain": [
       "(267300, 34)"
      ]
     },
     "execution_count": 19,
     "metadata": {},
     "output_type": "execute_result"
    }
   ],
   "source": [
    "x_train.shape"
   ]
  },
  {
   "cell_type": "code",
   "execution_count": 17,
   "id": "b52eaed0",
   "metadata": {},
   "outputs": [
    {
     "name": "stdout",
     "output_type": "stream",
     "text": [
      "Mean Sales: 200.75\n",
      "Baseline MAE: 299.58\n"
     ]
    }
   ],
   "source": [
    "# Baseline mean absolute error\n",
    "y_train_mean = train[\"sales\"].mean()\n",
    "y_pred_baseline = [y_train_mean] * len(train[\"sales\"])\n",
    "MAE_baseline = mean_absolute_error(train[\"sales\"], y_pred_baseline)\n",
    "\n",
    "print(\"Mean Sales:\", round(y_train_mean, 2))\n",
    "print(\"Baseline MAE:\", round(MAE_baseline, 2))"
   ]
  },
  {
   "cell_type": "code",
   "execution_count": null,
   "id": "13762203",
   "metadata": {},
   "outputs": [],
   "source": []
  },
  {
   "cell_type": "markdown",
   "id": "85bd0661",
   "metadata": {},
   "source": [
    "### Hyperparameter Tuning"
   ]
  },
  {
   "cell_type": "code",
   "execution_count": 54,
   "id": "37605566",
   "metadata": {},
   "outputs": [],
   "source": [
    "p_params = range(0, 25, 8)\n",
    "q_params = range(0, 3, 1)"
   ]
  },
  {
   "cell_type": "code",
   "execution_count": 55,
   "id": "f2ceb11a",
   "metadata": {},
   "outputs": [
    {
     "data": {
      "text/plain": [
       "array([[1, 0, False, ..., False, False, False],\n",
       "       [1, 0, True, ..., False, False, False],\n",
       "       [1, 0, False, ..., False, False, False],\n",
       "       ...,\n",
       "       [9, 3, False, ..., True, False, False],\n",
       "       [9, 0, False, ..., False, True, False],\n",
       "       [9, 0, False, ..., False, False, True]], dtype=object)"
      ]
     },
     "execution_count": 55,
     "metadata": {},
     "output_type": "execute_result"
    }
   ],
   "source": [
    "np.asarray(x_train)"
   ]
  },
  {
   "cell_type": "code",
   "execution_count": 66,
   "id": "d06bfb24",
   "metadata": {},
   "outputs": [
    {
     "name": "stderr",
     "output_type": "stream",
     "text": [
      "C:\\ProgramData\\anaconda3\\Lib\\site-packages\\statsmodels\\tsa\\base\\tsa_model.py:473: ValueWarning: A date index has been provided, but it has no associated frequency information and so will be ignored when e.g. forecasting.\n",
      "  self._init_dates(dates, freq)\n",
      "C:\\ProgramData\\anaconda3\\Lib\\site-packages\\statsmodels\\tsa\\base\\tsa_model.py:473: ValueWarning: A date index has been provided, but it has no associated frequency information and so will be ignored when e.g. forecasting.\n",
      "  self._init_dates(dates, freq)\n"
     ]
    },
    {
     "data": {
      "text/plain": [
       "<statsmodels.tsa.statespace.sarimax.SARIMAX at 0x28a5e97ced0>"
      ]
     },
     "execution_count": 66,
     "metadata": {},
     "output_type": "execute_result"
    }
   ],
   "source": [
    "SARIMAX(y_train, exog=x_train, order=order)"
   ]
  },
  {
   "cell_type": "code",
   "execution_count": null,
   "id": "869876f4",
   "metadata": {},
   "outputs": [
    {
     "name": "stderr",
     "output_type": "stream",
     "text": [
      "C:\\ProgramData\\anaconda3\\Lib\\site-packages\\statsmodels\\tsa\\base\\tsa_model.py:473: ValueWarning: A date index has been provided, but it has no associated frequency information and so will be ignored when e.g. forecasting.\n",
      "  self._init_dates(dates, freq)\n",
      "C:\\ProgramData\\anaconda3\\Lib\\site-packages\\statsmodels\\tsa\\base\\tsa_model.py:473: ValueWarning: A date index has been provided, but it has no associated frequency information and so will be ignored when e.g. forecasting.\n",
      "  self._init_dates(dates, freq)\n"
     ]
    },
    {
     "name": "stdout",
     "output_type": "stream",
     "text": [
      "Trained ARIMA (0, 0, 0) in 195.97 seconds.\n"
     ]
    },
    {
     "name": "stderr",
     "output_type": "stream",
     "text": [
      "C:\\ProgramData\\anaconda3\\Lib\\site-packages\\statsmodels\\tsa\\base\\tsa_model.py:473: ValueWarning: A date index has been provided, but it has no associated frequency information and so will be ignored when e.g. forecasting.\n",
      "  self._init_dates(dates, freq)\n",
      "C:\\ProgramData\\anaconda3\\Lib\\site-packages\\statsmodels\\tsa\\base\\tsa_model.py:473: ValueWarning: A date index has been provided, but it has no associated frequency information and so will be ignored when e.g. forecasting.\n",
      "  self._init_dates(dates, freq)\n"
     ]
    },
    {
     "name": "stdout",
     "output_type": "stream",
     "text": [
      "Trained ARIMA (0, 0, 1) in 626.93 seconds.\n"
     ]
    },
    {
     "name": "stderr",
     "output_type": "stream",
     "text": [
      "C:\\ProgramData\\anaconda3\\Lib\\site-packages\\statsmodels\\tsa\\base\\tsa_model.py:473: ValueWarning: A date index has been provided, but it has no associated frequency information and so will be ignored when e.g. forecasting.\n",
      "  self._init_dates(dates, freq)\n",
      "C:\\ProgramData\\anaconda3\\Lib\\site-packages\\statsmodels\\tsa\\base\\tsa_model.py:473: ValueWarning: A date index has been provided, but it has no associated frequency information and so will be ignored when e.g. forecasting.\n",
      "  self._init_dates(dates, freq)\n"
     ]
    },
    {
     "name": "stdout",
     "output_type": "stream",
     "text": [
      "Trained ARIMA (0, 0, 2) in 947.17 seconds.\n"
     ]
    },
    {
     "name": "stderr",
     "output_type": "stream",
     "text": [
      "C:\\ProgramData\\anaconda3\\Lib\\site-packages\\statsmodels\\tsa\\base\\tsa_model.py:473: ValueWarning: A date index has been provided, but it has no associated frequency information and so will be ignored when e.g. forecasting.\n",
      "  self._init_dates(dates, freq)\n",
      "C:\\ProgramData\\anaconda3\\Lib\\site-packages\\statsmodels\\tsa\\base\\tsa_model.py:473: ValueWarning: A date index has been provided, but it has no associated frequency information and so will be ignored when e.g. forecasting.\n",
      "  self._init_dates(dates, freq)\n"
     ]
    }
   ],
   "source": [
    "\n",
    "p_params = range(0, 25, 8)\n",
    "q_params = range(0, 3, 1)\n",
    "\n",
    "# Create dictionary to store MAEs\n",
    "mae_grid = dict()\n",
    "# Outer loop: Iterate through possible values for `p`\n",
    "for p in p_params:\n",
    "    # Create key-value pair in dict. Key is `p`, value is empty list.\n",
    "    mae_grid[p] = list()\n",
    "    # Inner loop: Iterate through possible values for `q`\n",
    "    for q in q_params:\n",
    "        # Combination of hyperparameters for model\n",
    "        order = (p, 0, q)\n",
    "        # Note start time\n",
    "        start_time = time.time()\n",
    "        # Train model\n",
    "        model = SARIMAX(y_train, exog=x_train, order=order).fit()\n",
    "        # Calculate model training time\n",
    "        elapsed_time = round(time.time() - start_time, 2)\n",
    "        print(f\"Trained ARIMA {order} in {elapsed_time} seconds.\")\n",
    "        # Generate in-sample (training) predictions\n",
    "        y_pred = model.predict()\n",
    "        # Calculate training MAE\n",
    "        mae = mean_absolute_error(y_train, y_pred)\n",
    "        # Append MAE to list in dictionary\n",
    "        mae_grid[p].append(mae)\n",
    "\n",
    "\n",
    "print(mae_grid)\n"
   ]
  },
  {
   "cell_type": "code",
   "execution_count": null,
   "id": "a05cf8d5",
   "metadata": {},
   "outputs": [],
   "source": [
    "y_train.index.freq = 'D'"
   ]
  },
  {
   "cell_type": "markdown",
   "id": "8aa0daa4",
   "metadata": {},
   "source": [
    "### TEST prediction"
   ]
  },
  {
   "cell_type": "code",
   "execution_count": 8,
   "id": "f93a2356",
   "metadata": {},
   "outputs": [
    {
     "data": {
      "text/html": [
       "<div>\n",
       "<style scoped>\n",
       "    .dataframe tbody tr th:only-of-type {\n",
       "        vertical-align: middle;\n",
       "    }\n",
       "\n",
       "    .dataframe tbody tr th {\n",
       "        vertical-align: top;\n",
       "    }\n",
       "\n",
       "    .dataframe thead th {\n",
       "        text-align: right;\n",
       "    }\n",
       "</style>\n",
       "<table border=\"1\" class=\"dataframe\">\n",
       "  <thead>\n",
       "    <tr style=\"text-align: right;\">\n",
       "      <th></th>\n",
       "      <th>id</th>\n",
       "      <th>date</th>\n",
       "      <th>store_nbr</th>\n",
       "      <th>family</th>\n",
       "      <th>onpromotion</th>\n",
       "    </tr>\n",
       "  </thead>\n",
       "  <tbody>\n",
       "    <tr>\n",
       "      <th>0</th>\n",
       "      <td>3000888</td>\n",
       "      <td>2017-08-16</td>\n",
       "      <td>1</td>\n",
       "      <td>AUTOMOTIVE</td>\n",
       "      <td>0</td>\n",
       "    </tr>\n",
       "    <tr>\n",
       "      <th>1</th>\n",
       "      <td>3000889</td>\n",
       "      <td>2017-08-16</td>\n",
       "      <td>1</td>\n",
       "      <td>BABY CARE</td>\n",
       "      <td>0</td>\n",
       "    </tr>\n",
       "    <tr>\n",
       "      <th>2</th>\n",
       "      <td>3000890</td>\n",
       "      <td>2017-08-16</td>\n",
       "      <td>1</td>\n",
       "      <td>BEAUTY</td>\n",
       "      <td>2</td>\n",
       "    </tr>\n",
       "    <tr>\n",
       "      <th>3</th>\n",
       "      <td>3000891</td>\n",
       "      <td>2017-08-16</td>\n",
       "      <td>1</td>\n",
       "      <td>BEVERAGES</td>\n",
       "      <td>20</td>\n",
       "    </tr>\n",
       "    <tr>\n",
       "      <th>4</th>\n",
       "      <td>3000892</td>\n",
       "      <td>2017-08-16</td>\n",
       "      <td>1</td>\n",
       "      <td>BOOKS</td>\n",
       "      <td>0</td>\n",
       "    </tr>\n",
       "  </tbody>\n",
       "</table>\n",
       "</div>"
      ],
      "text/plain": [
       "        id        date  store_nbr      family  onpromotion\n",
       "0  3000888  2017-08-16          1  AUTOMOTIVE            0\n",
       "1  3000889  2017-08-16          1   BABY CARE            0\n",
       "2  3000890  2017-08-16          1      BEAUTY            2\n",
       "3  3000891  2017-08-16          1   BEVERAGES           20\n",
       "4  3000892  2017-08-16          1       BOOKS            0"
      ]
     },
     "execution_count": 8,
     "metadata": {},
     "output_type": "execute_result"
    }
   ],
   "source": [
    "# TEST prediction\n",
    "testi= pd.read_csv(\"test.csv\")\n",
    "testi.head()"
   ]
  },
  {
   "cell_type": "code",
   "execution_count": 9,
   "id": "4a977904",
   "metadata": {},
   "outputs": [
    {
     "data": {
      "text/html": [
       "<div>\n",
       "<style scoped>\n",
       "    .dataframe tbody tr th:only-of-type {\n",
       "        vertical-align: middle;\n",
       "    }\n",
       "\n",
       "    .dataframe tbody tr th {\n",
       "        vertical-align: top;\n",
       "    }\n",
       "\n",
       "    .dataframe thead th {\n",
       "        text-align: right;\n",
       "    }\n",
       "</style>\n",
       "<table border=\"1\" class=\"dataframe\">\n",
       "  <thead>\n",
       "    <tr style=\"text-align: right;\">\n",
       "      <th></th>\n",
       "      <th>store_nbr</th>\n",
       "      <th>family</th>\n",
       "      <th>onpromotion</th>\n",
       "    </tr>\n",
       "    <tr>\n",
       "      <th>date</th>\n",
       "      <th></th>\n",
       "      <th></th>\n",
       "      <th></th>\n",
       "    </tr>\n",
       "  </thead>\n",
       "  <tbody>\n",
       "    <tr>\n",
       "      <th>2017-08-16</th>\n",
       "      <td>1</td>\n",
       "      <td>AUTOMOTIVE</td>\n",
       "      <td>0</td>\n",
       "    </tr>\n",
       "    <tr>\n",
       "      <th>2017-08-16</th>\n",
       "      <td>1</td>\n",
       "      <td>BABY CARE</td>\n",
       "      <td>0</td>\n",
       "    </tr>\n",
       "    <tr>\n",
       "      <th>2017-08-16</th>\n",
       "      <td>1</td>\n",
       "      <td>BEAUTY</td>\n",
       "      <td>2</td>\n",
       "    </tr>\n",
       "    <tr>\n",
       "      <th>2017-08-16</th>\n",
       "      <td>1</td>\n",
       "      <td>BEVERAGES</td>\n",
       "      <td>20</td>\n",
       "    </tr>\n",
       "    <tr>\n",
       "      <th>2017-08-16</th>\n",
       "      <td>1</td>\n",
       "      <td>BOOKS</td>\n",
       "      <td>0</td>\n",
       "    </tr>\n",
       "  </tbody>\n",
       "</table>\n",
       "</div>"
      ],
      "text/plain": [
       "            store_nbr      family  onpromotion\n",
       "date                                          \n",
       "2017-08-16          1  AUTOMOTIVE            0\n",
       "2017-08-16          1   BABY CARE            0\n",
       "2017-08-16          1      BEAUTY            2\n",
       "2017-08-16          1   BEVERAGES           20\n",
       "2017-08-16          1       BOOKS            0"
      ]
     },
     "execution_count": 9,
     "metadata": {},
     "output_type": "execute_result"
    }
   ],
   "source": [
    "testi = pd.read_csv(\"test.csv\", index_col=\"date\").drop(columns=\"id\")\n",
    "testi.index = pd.to_datetime(testi.index)\n",
    "testi.head()"
   ]
  },
  {
   "cell_type": "code",
   "execution_count": 21,
   "id": "d06ca020",
   "metadata": {},
   "outputs": [],
   "source": [
    "dati = pd.get_dummies(testi, columns=['family'], drop_first=True)\n",
    "dati = dat.astype(int)\n"
   ]
  },
  {
   "cell_type": "code",
   "execution_count": 25,
   "id": "d9871258",
   "metadata": {},
   "outputs": [
    {
     "name": "stderr",
     "output_type": "stream",
     "text": [
      "C:\\ProgramData\\anaconda3\\Lib\\site-packages\\statsmodels\\tsa\\base\\tsa_model.py:473: ValueWarning: A date index has been provided, but it has no associated frequency information and so will be ignored when e.g. forecasting.\n",
      "  self._init_dates(dates, freq)\n",
      "C:\\ProgramData\\anaconda3\\Lib\\site-packages\\statsmodels\\tsa\\base\\tsa_model.py:473: ValueWarning: A date index has been provided, but it has no associated frequency information and so will be ignored when e.g. forecasting.\n",
      "  self._init_dates(dates, freq)\n",
      "C:\\ProgramData\\anaconda3\\Lib\\site-packages\\statsmodels\\tsa\\base\\tsa_model.py:836: ValueWarning: No supported index is available. Prediction results will be given with an integer index beginning at `start`.\n",
      "  return get_prediction_index(\n",
      "C:\\ProgramData\\anaconda3\\Lib\\site-packages\\statsmodels\\tsa\\base\\tsa_model.py:836: FutureWarning: No supported index is available. In the next version, calling this method in a model without a supported index will result in an exception.\n",
      "  return get_prediction_index(\n"
     ]
    },
    {
     "ename": "ValueError",
     "evalue": "Out-of-sample operations in a model with a regression component require additional exogenous values via the `exog` argument.",
     "output_type": "error",
     "traceback": [
      "\u001b[1;31m---------------------------------------------------------------------------\u001b[0m",
      "\u001b[1;31mValueError\u001b[0m                                Traceback (most recent call last)",
      "Cell \u001b[1;32mIn[25], line 6\u001b[0m\n\u001b[0;32m      3\u001b[0m \u001b[38;5;28;01mfor\u001b[39;00m i \u001b[38;5;129;01min\u001b[39;00m \u001b[38;5;28mrange\u001b[39m(\u001b[38;5;28mlen\u001b[39m(testi)):\n\u001b[0;32m      4\u001b[0m     model \u001b[38;5;241m=\u001b[39m SARIMAX(y_train, exog\u001b[38;5;241m=\u001b[39mx_train, order\u001b[38;5;241m=\u001b[39m(\u001b[38;5;241m0\u001b[39m,\u001b[38;5;241m0\u001b[39m,\u001b[38;5;241m1\u001b[39m))\u001b[38;5;241m.\u001b[39mfit()\n\u001b[1;32m----> 6\u001b[0m     next_pred \u001b[38;5;241m=\u001b[39m model\u001b[38;5;241m.\u001b[39mforecast()\n\u001b[0;32m      7\u001b[0m     y_pred_wfv \u001b[38;5;241m=\u001b[39m y_pred_wfv\u001b[38;5;241m.\u001b[39mappend(next_pred)\n\u001b[0;32m      8\u001b[0m     history \u001b[38;5;241m=\u001b[39m history\u001b[38;5;241m.\u001b[39mappend(y_test[next_pred\u001b[38;5;241m.\u001b[39mindex])\n",
      "File \u001b[1;32mC:\\ProgramData\\anaconda3\\Lib\\site-packages\\statsmodels\\base\\wrapper.py:113\u001b[0m, in \u001b[0;36mmake_wrapper.<locals>.wrapper\u001b[1;34m(self, *args, **kwargs)\u001b[0m\n\u001b[0;32m    111\u001b[0m     obj \u001b[38;5;241m=\u001b[39m data\u001b[38;5;241m.\u001b[39mwrap_output(func(results, \u001b[38;5;241m*\u001b[39margs, \u001b[38;5;241m*\u001b[39m\u001b[38;5;241m*\u001b[39mkwargs), how[\u001b[38;5;241m0\u001b[39m], how[\u001b[38;5;241m1\u001b[39m:])\n\u001b[0;32m    112\u001b[0m \u001b[38;5;28;01melif\u001b[39;00m how:\n\u001b[1;32m--> 113\u001b[0m     obj \u001b[38;5;241m=\u001b[39m data\u001b[38;5;241m.\u001b[39mwrap_output(func(results, \u001b[38;5;241m*\u001b[39margs, \u001b[38;5;241m*\u001b[39m\u001b[38;5;241m*\u001b[39mkwargs), how)\n\u001b[0;32m    114\u001b[0m \u001b[38;5;28;01mreturn\u001b[39;00m obj\n",
      "File \u001b[1;32mC:\\ProgramData\\anaconda3\\Lib\\site-packages\\statsmodels\\tsa\\statespace\\mlemodel.py:3537\u001b[0m, in \u001b[0;36mMLEResults.forecast\u001b[1;34m(self, steps, signal_only, **kwargs)\u001b[0m\n\u001b[0;32m   3535\u001b[0m \u001b[38;5;28;01melse\u001b[39;00m:\n\u001b[0;32m   3536\u001b[0m     end \u001b[38;5;241m=\u001b[39m steps\n\u001b[1;32m-> 3537\u001b[0m \u001b[38;5;28;01mreturn\u001b[39;00m \u001b[38;5;28mself\u001b[39m\u001b[38;5;241m.\u001b[39mpredict(start\u001b[38;5;241m=\u001b[39m\u001b[38;5;28mself\u001b[39m\u001b[38;5;241m.\u001b[39mnobs, end\u001b[38;5;241m=\u001b[39mend, signal_only\u001b[38;5;241m=\u001b[39msignal_only,\n\u001b[0;32m   3538\u001b[0m                     \u001b[38;5;241m*\u001b[39m\u001b[38;5;241m*\u001b[39mkwargs)\n",
      "File \u001b[1;32mC:\\ProgramData\\anaconda3\\Lib\\site-packages\\statsmodels\\tsa\\statespace\\mlemodel.py:3487\u001b[0m, in \u001b[0;36mMLEResults.predict\u001b[1;34m(self, start, end, dynamic, information_set, signal_only, **kwargs)\u001b[0m\n\u001b[0;32m   3422\u001b[0m \u001b[38;5;250m\u001b[39m\u001b[38;5;124mr\u001b[39m\u001b[38;5;124;03m\"\"\"\u001b[39;00m\n\u001b[0;32m   3423\u001b[0m \u001b[38;5;124;03mIn-sample prediction and out-of-sample forecasting\u001b[39;00m\n\u001b[0;32m   3424\u001b[0m \n\u001b[1;32m   (...)\u001b[0m\n\u001b[0;32m   3484\u001b[0m \u001b[38;5;124;03m    including confidence intervals.\u001b[39;00m\n\u001b[0;32m   3485\u001b[0m \u001b[38;5;124;03m\"\"\"\u001b[39;00m\n\u001b[0;32m   3486\u001b[0m \u001b[38;5;66;03m# Perform the prediction\u001b[39;00m\n\u001b[1;32m-> 3487\u001b[0m prediction_results \u001b[38;5;241m=\u001b[39m \u001b[38;5;28mself\u001b[39m\u001b[38;5;241m.\u001b[39mget_prediction(\n\u001b[0;32m   3488\u001b[0m     start, end, dynamic, information_set\u001b[38;5;241m=\u001b[39minformation_set,\n\u001b[0;32m   3489\u001b[0m     signal_only\u001b[38;5;241m=\u001b[39msignal_only, \u001b[38;5;241m*\u001b[39m\u001b[38;5;241m*\u001b[39mkwargs)\n\u001b[0;32m   3490\u001b[0m \u001b[38;5;28;01mreturn\u001b[39;00m prediction_results\u001b[38;5;241m.\u001b[39mpredicted_mean\n",
      "File \u001b[1;32mC:\\ProgramData\\anaconda3\\Lib\\site-packages\\statsmodels\\tsa\\statespace\\mlemodel.py:3355\u001b[0m, in \u001b[0;36mMLEResults.get_prediction\u001b[1;34m(self, start, end, dynamic, information_set, signal_only, index, exog, extend_model, extend_kwargs, **kwargs)\u001b[0m\n\u001b[0;32m   3352\u001b[0m     extend_model \u001b[38;5;241m=\u001b[39m (\u001b[38;5;28mself\u001b[39m\u001b[38;5;241m.\u001b[39mmodel\u001b[38;5;241m.\u001b[39mexog \u001b[38;5;129;01mis\u001b[39;00m \u001b[38;5;129;01mnot\u001b[39;00m \u001b[38;5;28;01mNone\u001b[39;00m \u001b[38;5;129;01mor\u001b[39;00m\n\u001b[0;32m   3353\u001b[0m                     \u001b[38;5;129;01mnot\u001b[39;00m \u001b[38;5;28mself\u001b[39m\u001b[38;5;241m.\u001b[39mfilter_results\u001b[38;5;241m.\u001b[39mtime_invariant)\n\u001b[0;32m   3354\u001b[0m \u001b[38;5;28;01mif\u001b[39;00m out_of_sample \u001b[38;5;129;01mand\u001b[39;00m extend_model:\n\u001b[1;32m-> 3355\u001b[0m     kwargs \u001b[38;5;241m=\u001b[39m \u001b[38;5;28mself\u001b[39m\u001b[38;5;241m.\u001b[39mmodel\u001b[38;5;241m.\u001b[39m_get_extension_time_varying_matrices(\n\u001b[0;32m   3356\u001b[0m         \u001b[38;5;28mself\u001b[39m\u001b[38;5;241m.\u001b[39mparams, exog, out_of_sample, extend_kwargs,\n\u001b[0;32m   3357\u001b[0m         transformed\u001b[38;5;241m=\u001b[39m\u001b[38;5;28;01mTrue\u001b[39;00m, includes_fixed\u001b[38;5;241m=\u001b[39m\u001b[38;5;28;01mTrue\u001b[39;00m, \u001b[38;5;241m*\u001b[39m\u001b[38;5;241m*\u001b[39mkwargs)\n\u001b[0;32m   3359\u001b[0m \u001b[38;5;66;03m# Make sure the model class has the current parameters\u001b[39;00m\n\u001b[0;32m   3360\u001b[0m \u001b[38;5;28mself\u001b[39m\u001b[38;5;241m.\u001b[39mmodel\u001b[38;5;241m.\u001b[39mupdate(\u001b[38;5;28mself\u001b[39m\u001b[38;5;241m.\u001b[39mparams, transformed\u001b[38;5;241m=\u001b[39m\u001b[38;5;28;01mTrue\u001b[39;00m, includes_fixed\u001b[38;5;241m=\u001b[39m\u001b[38;5;28;01mTrue\u001b[39;00m)\n",
      "File \u001b[1;32mC:\\ProgramData\\anaconda3\\Lib\\site-packages\\statsmodels\\tsa\\statespace\\sarimax.py:1718\u001b[0m, in \u001b[0;36mSARIMAX._get_extension_time_varying_matrices\u001b[1;34m(self, params, exog, out_of_sample, extend_kwargs, transformed, includes_fixed, **kwargs)\u001b[0m\n\u001b[0;32m   1708\u001b[0m \u001b[38;5;250m\u001b[39m\u001b[38;5;124;03m\"\"\"\u001b[39;00m\n\u001b[0;32m   1709\u001b[0m \u001b[38;5;124;03mGet time-varying state space system matrices for extended model\u001b[39;00m\n\u001b[0;32m   1710\u001b[0m \n\u001b[1;32m   (...)\u001b[0m\n\u001b[0;32m   1714\u001b[0m \u001b[38;5;124;03mspecial handling in the `simple_differencing=True` case.\u001b[39;00m\n\u001b[0;32m   1715\u001b[0m \u001b[38;5;124;03m\"\"\"\u001b[39;00m\n\u001b[0;32m   1717\u001b[0m \u001b[38;5;66;03m# Get the appropriate exog for the extended sample\u001b[39;00m\n\u001b[1;32m-> 1718\u001b[0m exog \u001b[38;5;241m=\u001b[39m \u001b[38;5;28mself\u001b[39m\u001b[38;5;241m.\u001b[39m_validate_out_of_sample_exog(exog, out_of_sample)\n\u001b[0;32m   1720\u001b[0m \u001b[38;5;66;03m# Get the tmp endog, exog\u001b[39;00m\n\u001b[0;32m   1721\u001b[0m \u001b[38;5;28;01mif\u001b[39;00m \u001b[38;5;28mself\u001b[39m\u001b[38;5;241m.\u001b[39msimple_differencing:\n",
      "File \u001b[1;32mC:\\ProgramData\\anaconda3\\Lib\\site-packages\\statsmodels\\tsa\\statespace\\mlemodel.py:1769\u001b[0m, in \u001b[0;36mMLEModel._validate_out_of_sample_exog\u001b[1;34m(self, exog, out_of_sample)\u001b[0m\n\u001b[0;32m   1767\u001b[0m \u001b[38;5;28;01mif\u001b[39;00m out_of_sample \u001b[38;5;129;01mand\u001b[39;00m k_exog \u001b[38;5;241m>\u001b[39m \u001b[38;5;241m0\u001b[39m:\n\u001b[0;32m   1768\u001b[0m     \u001b[38;5;28;01mif\u001b[39;00m exog \u001b[38;5;129;01mis\u001b[39;00m \u001b[38;5;28;01mNone\u001b[39;00m:\n\u001b[1;32m-> 1769\u001b[0m         \u001b[38;5;28;01mraise\u001b[39;00m \u001b[38;5;167;01mValueError\u001b[39;00m(\u001b[38;5;124m'\u001b[39m\u001b[38;5;124mOut-of-sample operations in a model\u001b[39m\u001b[38;5;124m'\u001b[39m\n\u001b[0;32m   1770\u001b[0m                          \u001b[38;5;124m'\u001b[39m\u001b[38;5;124m with a regression component require\u001b[39m\u001b[38;5;124m'\u001b[39m\n\u001b[0;32m   1771\u001b[0m                          \u001b[38;5;124m'\u001b[39m\u001b[38;5;124m additional exogenous values via the\u001b[39m\u001b[38;5;124m'\u001b[39m\n\u001b[0;32m   1772\u001b[0m                          \u001b[38;5;124m'\u001b[39m\u001b[38;5;124m `exog` argument.\u001b[39m\u001b[38;5;124m'\u001b[39m)\n\u001b[0;32m   1773\u001b[0m     exog \u001b[38;5;241m=\u001b[39m np\u001b[38;5;241m.\u001b[39marray(exog)\n\u001b[0;32m   1774\u001b[0m     required_exog_shape \u001b[38;5;241m=\u001b[39m (out_of_sample, \u001b[38;5;28mself\u001b[39m\u001b[38;5;241m.\u001b[39mk_exog)\n",
      "\u001b[1;31mValueError\u001b[0m: Out-of-sample operations in a model with a regression component require additional exogenous values via the `exog` argument."
     ]
    }
   ],
   "source": [
    "y_pred_wfv = pd.Series()\n",
    "history = y_train.copy()\n",
    "for i in range(len(testi)):\n",
    "    model = SARIMAX(y_train, exog=x_train, order=(0,0,1)).fit()\n",
    "    \n",
    "    next_pred = model.forecast()\n",
    "    y_pred_wfv = y_pred_wfv.append(next_pred)\n",
    "    history = history.append(y_test[next_pred.index])"
   ]
  },
  {
   "cell_type": "code",
   "execution_count": null,
   "id": "f4eca570",
   "metadata": {},
   "outputs": [],
   "source": [
    "# split the data fro traning and testing\n",
    "\n",
    "x_train, x_test, y_train, y_test = train_test_split(x,y, test_size=0.2, random_state=40)"
   ]
  },
  {
   "cell_type": "code",
   "execution_count": 38,
   "id": "890f1a46",
   "metadata": {},
   "outputs": [
    {
     "ename": "TypeError",
     "evalue": "'tuple' object is not callable",
     "output_type": "error",
     "traceback": [
      "\u001b[1;31m---------------------------------------------------------------------------\u001b[0m",
      "\u001b[1;31mTypeError\u001b[0m                                 Traceback (most recent call last)",
      "\u001b[1;32m~\\AppData\\Local\\Temp/ipykernel_5024/2441850701.py\u001b[0m in \u001b[0;36m<module>\u001b[1;34m\u001b[0m\n\u001b[0;32m      1\u001b[0m \u001b[1;31m# Iterate through the model\u001b[0m\u001b[1;33m\u001b[0m\u001b[1;33m\u001b[0m\u001b[0m\n\u001b[0;32m      2\u001b[0m \u001b[1;33m\u001b[0m\u001b[0m\n\u001b[1;32m----> 3\u001b[1;33m model = make_pipeline(\n\u001b[0m\u001b[0;32m      4\u001b[0m     \u001b[0mOneHotEncoder\u001b[0m\u001b[1;33m(\u001b[0m\u001b[0muse_cat_names\u001b[0m \u001b[1;33m=\u001b[0m \u001b[1;32mTrue\u001b[0m\u001b[1;33m)\u001b[0m\u001b[1;33m,\u001b[0m\u001b[1;33m\u001b[0m\u001b[1;33m\u001b[0m\u001b[0m\n\u001b[0;32m      5\u001b[0m     \u001b[0mSimpleImputer\u001b[0m\u001b[1;33m(\u001b[0m\u001b[1;33m)\u001b[0m\u001b[1;33m,\u001b[0m\u001b[1;33m\u001b[0m\u001b[1;33m\u001b[0m\u001b[0m\n",
      "\u001b[1;31mTypeError\u001b[0m: 'tuple' object is not callable"
     ]
    }
   ],
   "source": [
    "# Iterate through the model\n",
    "\n",
    "model = make_pipeline(\n",
    "    OneHotEncoder(use_cat_names = True),0.\n",
    "    \n",
    "    SimpleImputer(),\n",
    "    LinearRegression()\n",
    "    \n",
    ")\n",
    "\n",
    "model.fit(x_train, y_train)"
   ]
  },
  {
   "cell_type": "code",
   "execution_count": null,
   "id": "d66a7089",
   "metadata": {},
   "outputs": [],
   "source": []
  },
  {
   "cell_type": "code",
   "execution_count": null,
   "id": "5f19248b",
   "metadata": {},
   "outputs": [],
   "source": []
  }
 ],
 "metadata": {
  "kernelspec": {
   "display_name": "Python 3 (ipykernel)",
   "language": "python",
   "name": "python3"
  },
  "language_info": {
   "codemirror_mode": {
    "name": "ipython",
    "version": 3
   },
   "file_extension": ".py",
   "mimetype": "text/x-python",
   "name": "python",
   "nbconvert_exporter": "python",
   "pygments_lexer": "ipython3",
   "version": "3.11.5"
  }
 },
 "nbformat": 4,
 "nbformat_minor": 5
}
